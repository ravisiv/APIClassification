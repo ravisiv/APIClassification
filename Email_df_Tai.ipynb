{
  "nbformat": 4,
  "nbformat_minor": 0,
  "metadata": {
    "colab": {
      "name": "Email_df_Tai.ipynb",
      "provenance": [],
      "collapsed_sections": [],
      "machine_shape": "hm",
      "include_colab_link": true
    },
    "kernelspec": {
      "name": "python3",
      "display_name": "Python 3"
    },
    "language_info": {
      "name": "python"
    },
    "accelerator": "GPU"
  },
  "cells": [
    {
      "cell_type": "markdown",
      "metadata": {
        "id": "view-in-github",
        "colab_type": "text"
      },
      "source": [
        "<a href=\"https://colab.research.google.com/github/ravisiv/APIClassification/blob/main/Email_df_Tai.ipynb\" target=\"_parent\"><img src=\"https://colab.research.google.com/assets/colab-badge.svg\" alt=\"Open In Colab\"/></a>"
      ]
    },
    {
      "cell_type": "markdown",
      "source": [
        "\n",
        "\n",
        "#check out MXNET\n",
        "\n",
        "\n"
      ],
      "metadata": {
        "id": "Xbs_AM4mCi3_"
      }
    },
    {
      "cell_type": "markdown",
      "source": [
        "# Neural Network vs. Random Forest"
      ],
      "metadata": {
        "id": "wy1kKkb7bS0o"
      }
    },
    {
      "cell_type": "code",
      "execution_count": null,
      "metadata": {
        "id": "cMh_AXoOpy7E"
      },
      "outputs": [],
      "source": [
        "import tensorflow.keras as keras\n",
        "import tensorflow as tf\n",
        "import pandas as pd\n",
        "import nltk\n",
        "import numpy as np\n",
        "import pandas as pd\n",
        "import nltk\n",
        "from nltk.corpus import stopwords\n",
        "\n",
        "\n",
        "##"
      ]
    },
    {
      "cell_type": "code",
      "source": [
        "from google.colab import drive\n",
        "drive.mount('/content/drive')\n",
        "%cd /content/drive/My Drive/Capstone/Data\n",
        "data = pd.read_csv('metadata_final_II.csv')"
      ],
      "metadata": {
        "colab": {
          "base_uri": "https://localhost:8080/"
        },
        "id": "vrVUKoZKtcbd",
        "outputId": "d8f5af6d-b7af-4c10-a1ca-ee08e046014d"
      },
      "execution_count": null,
      "outputs": [
        {
          "output_type": "stream",
          "name": "stdout",
          "text": [
            "Drive already mounted at /content/drive; to attempt to forcibly remount, call drive.mount(\"/content/drive\", force_remount=True).\n",
            "/content/drive/My Drive/Capstone/Data\n"
          ]
        }
      ]
    },
    {
      "cell_type": "code",
      "source": [
        "data.shape"
      ],
      "metadata": {
        "colab": {
          "base_uri": "https://localhost:8080/"
        },
        "id": "DyYiZJ7ii_JG",
        "outputId": "95122588-eb4e-4193-9b9a-19c28683fdf4"
      },
      "execution_count": null,
      "outputs": [
        {
          "output_type": "execute_result",
          "data": {
            "text/plain": [
              "(9967, 203)"
            ]
          },
          "metadata": {},
          "execution_count": 49
        }
      ]
    },
    {
      "cell_type": "code",
      "source": [
        "data.mode().iloc[0]"
      ],
      "metadata": {
        "colab": {
          "base_uri": "https://localhost:8080/"
        },
        "id": "x90j06FL4YmS",
        "outputId": "4d1fa72c-3baf-483f-d891-62f4fe1db6e4"
      },
      "execution_count": null,
      "outputs": [
        {
          "output_type": "execute_result",
          "data": {
            "text/plain": [
              "Unnamed: 0              2.0\n",
              "attachment_count        0.0\n",
              "url1                  343.0\n",
              "url2                20046.0\n",
              "url3                  343.0\n",
              "                     ...   \n",
              "header29               49.0\n",
              "header30               50.0\n",
              "header31               51.0\n",
              "header32               50.0\n",
              "target                  0.0\n",
              "Name: 0, Length: 203, dtype: float64"
            ]
          },
          "metadata": {},
          "execution_count": 59
        }
      ]
    },
    {
      "cell_type": "code",
      "source": [
        "data.isnull().sum()"
      ],
      "metadata": {
        "colab": {
          "base_uri": "https://localhost:8080/"
        },
        "id": "9fiWUTHjifBZ",
        "outputId": "1e03ba05-8161-4081-d142-8f2c7f0e24cb"
      },
      "execution_count": null,
      "outputs": [
        {
          "output_type": "execute_result",
          "data": {
            "text/plain": [
              "Unnamed: 0             0\n",
              "attachment_count       0\n",
              "url1                 132\n",
              "url2                 234\n",
              "url3                 259\n",
              "                    ... \n",
              "header29            5546\n",
              "header30            5893\n",
              "header31            6376\n",
              "header32            6700\n",
              "target                 0\n",
              "Length: 203, dtype: int64"
            ]
          },
          "metadata": {},
          "execution_count": 50
        }
      ]
    },
    {
      "cell_type": "code",
      "source": [
        "data.head()"
      ],
      "metadata": {
        "colab": {
          "base_uri": "https://localhost:8080/",
          "height": 317
        },
        "id": "4w2jiNtwLMcV",
        "outputId": "61e79f0c-a0c8-44a6-e307-05608a979408"
      },
      "execution_count": null,
      "outputs": [
        {
          "output_type": "execute_result",
          "data": {
            "text/plain": [
              "   Unnamed: 0  attachment_count     url1     url2     url3     url4     url5  \\\n",
              "0           2                 0  29213.0   7580.0  29214.0  29215.0  29216.0   \n",
              "1           3                 0   7580.0  29236.0  29237.0  29236.0  21061.0   \n",
              "2           4                 0   5600.0  29238.0   7580.0  29239.0  29240.0   \n",
              "3           5                 0   7580.0  29245.0  29246.0  29246.0  29245.0   \n",
              "4           6                 0   5599.0   5643.0   7580.0   4450.0   7570.0   \n",
              "\n",
              "      url6     url7     url8  ...  suffix41  suffix42  header26  header27  \\\n",
              "0  29214.0  21061.0   7580.0  ...       1.0       1.0       NaN       NaN   \n",
              "1   7580.0  29236.0  29236.0  ...       NaN       NaN       NaN       NaN   \n",
              "2  29241.0  29241.0  29239.0  ...       NaN       NaN     361.0      49.0   \n",
              "3  21061.0   7580.0  29245.0  ...       NaN       NaN       NaN       NaN   \n",
              "4   7462.0   4378.0   4450.0  ...       NaN       NaN       1.0       7.0   \n",
              "\n",
              "   header28  header29  header30  header31  header32  target  \n",
              "0       NaN       NaN       NaN       NaN       NaN       1  \n",
              "1       NaN       NaN       NaN       NaN       NaN       1  \n",
              "2     366.0      50.0     367.0      10.0       9.0       1  \n",
              "3       NaN       NaN       NaN       NaN       NaN       1  \n",
              "4      10.0       5.0     372.0     373.0      11.0       1  \n",
              "\n",
              "[5 rows x 203 columns]"
            ],
            "text/html": [
              "\n",
              "  <div id=\"df-30de7d93-ee6a-4e13-8db7-61dbfe2e693d\">\n",
              "    <div class=\"colab-df-container\">\n",
              "      <div>\n",
              "<style scoped>\n",
              "    .dataframe tbody tr th:only-of-type {\n",
              "        vertical-align: middle;\n",
              "    }\n",
              "\n",
              "    .dataframe tbody tr th {\n",
              "        vertical-align: top;\n",
              "    }\n",
              "\n",
              "    .dataframe thead th {\n",
              "        text-align: right;\n",
              "    }\n",
              "</style>\n",
              "<table border=\"1\" class=\"dataframe\">\n",
              "  <thead>\n",
              "    <tr style=\"text-align: right;\">\n",
              "      <th></th>\n",
              "      <th>Unnamed: 0</th>\n",
              "      <th>attachment_count</th>\n",
              "      <th>url1</th>\n",
              "      <th>url2</th>\n",
              "      <th>url3</th>\n",
              "      <th>url4</th>\n",
              "      <th>url5</th>\n",
              "      <th>url6</th>\n",
              "      <th>url7</th>\n",
              "      <th>url8</th>\n",
              "      <th>...</th>\n",
              "      <th>suffix41</th>\n",
              "      <th>suffix42</th>\n",
              "      <th>header26</th>\n",
              "      <th>header27</th>\n",
              "      <th>header28</th>\n",
              "      <th>header29</th>\n",
              "      <th>header30</th>\n",
              "      <th>header31</th>\n",
              "      <th>header32</th>\n",
              "      <th>target</th>\n",
              "    </tr>\n",
              "  </thead>\n",
              "  <tbody>\n",
              "    <tr>\n",
              "      <th>0</th>\n",
              "      <td>2</td>\n",
              "      <td>0</td>\n",
              "      <td>29213.0</td>\n",
              "      <td>7580.0</td>\n",
              "      <td>29214.0</td>\n",
              "      <td>29215.0</td>\n",
              "      <td>29216.0</td>\n",
              "      <td>29214.0</td>\n",
              "      <td>21061.0</td>\n",
              "      <td>7580.0</td>\n",
              "      <td>...</td>\n",
              "      <td>1.0</td>\n",
              "      <td>1.0</td>\n",
              "      <td>NaN</td>\n",
              "      <td>NaN</td>\n",
              "      <td>NaN</td>\n",
              "      <td>NaN</td>\n",
              "      <td>NaN</td>\n",
              "      <td>NaN</td>\n",
              "      <td>NaN</td>\n",
              "      <td>1</td>\n",
              "    </tr>\n",
              "    <tr>\n",
              "      <th>1</th>\n",
              "      <td>3</td>\n",
              "      <td>0</td>\n",
              "      <td>7580.0</td>\n",
              "      <td>29236.0</td>\n",
              "      <td>29237.0</td>\n",
              "      <td>29236.0</td>\n",
              "      <td>21061.0</td>\n",
              "      <td>7580.0</td>\n",
              "      <td>29236.0</td>\n",
              "      <td>29236.0</td>\n",
              "      <td>...</td>\n",
              "      <td>NaN</td>\n",
              "      <td>NaN</td>\n",
              "      <td>NaN</td>\n",
              "      <td>NaN</td>\n",
              "      <td>NaN</td>\n",
              "      <td>NaN</td>\n",
              "      <td>NaN</td>\n",
              "      <td>NaN</td>\n",
              "      <td>NaN</td>\n",
              "      <td>1</td>\n",
              "    </tr>\n",
              "    <tr>\n",
              "      <th>2</th>\n",
              "      <td>4</td>\n",
              "      <td>0</td>\n",
              "      <td>5600.0</td>\n",
              "      <td>29238.0</td>\n",
              "      <td>7580.0</td>\n",
              "      <td>29239.0</td>\n",
              "      <td>29240.0</td>\n",
              "      <td>29241.0</td>\n",
              "      <td>29241.0</td>\n",
              "      <td>29239.0</td>\n",
              "      <td>...</td>\n",
              "      <td>NaN</td>\n",
              "      <td>NaN</td>\n",
              "      <td>361.0</td>\n",
              "      <td>49.0</td>\n",
              "      <td>366.0</td>\n",
              "      <td>50.0</td>\n",
              "      <td>367.0</td>\n",
              "      <td>10.0</td>\n",
              "      <td>9.0</td>\n",
              "      <td>1</td>\n",
              "    </tr>\n",
              "    <tr>\n",
              "      <th>3</th>\n",
              "      <td>5</td>\n",
              "      <td>0</td>\n",
              "      <td>7580.0</td>\n",
              "      <td>29245.0</td>\n",
              "      <td>29246.0</td>\n",
              "      <td>29246.0</td>\n",
              "      <td>29245.0</td>\n",
              "      <td>21061.0</td>\n",
              "      <td>7580.0</td>\n",
              "      <td>29245.0</td>\n",
              "      <td>...</td>\n",
              "      <td>NaN</td>\n",
              "      <td>NaN</td>\n",
              "      <td>NaN</td>\n",
              "      <td>NaN</td>\n",
              "      <td>NaN</td>\n",
              "      <td>NaN</td>\n",
              "      <td>NaN</td>\n",
              "      <td>NaN</td>\n",
              "      <td>NaN</td>\n",
              "      <td>1</td>\n",
              "    </tr>\n",
              "    <tr>\n",
              "      <th>4</th>\n",
              "      <td>6</td>\n",
              "      <td>0</td>\n",
              "      <td>5599.0</td>\n",
              "      <td>5643.0</td>\n",
              "      <td>7580.0</td>\n",
              "      <td>4450.0</td>\n",
              "      <td>7570.0</td>\n",
              "      <td>7462.0</td>\n",
              "      <td>4378.0</td>\n",
              "      <td>4450.0</td>\n",
              "      <td>...</td>\n",
              "      <td>NaN</td>\n",
              "      <td>NaN</td>\n",
              "      <td>1.0</td>\n",
              "      <td>7.0</td>\n",
              "      <td>10.0</td>\n",
              "      <td>5.0</td>\n",
              "      <td>372.0</td>\n",
              "      <td>373.0</td>\n",
              "      <td>11.0</td>\n",
              "      <td>1</td>\n",
              "    </tr>\n",
              "  </tbody>\n",
              "</table>\n",
              "<p>5 rows × 203 columns</p>\n",
              "</div>\n",
              "      <button class=\"colab-df-convert\" onclick=\"convertToInteractive('df-30de7d93-ee6a-4e13-8db7-61dbfe2e693d')\"\n",
              "              title=\"Convert this dataframe to an interactive table.\"\n",
              "              style=\"display:none;\">\n",
              "        \n",
              "  <svg xmlns=\"http://www.w3.org/2000/svg\" height=\"24px\"viewBox=\"0 0 24 24\"\n",
              "       width=\"24px\">\n",
              "    <path d=\"M0 0h24v24H0V0z\" fill=\"none\"/>\n",
              "    <path d=\"M18.56 5.44l.94 2.06.94-2.06 2.06-.94-2.06-.94-.94-2.06-.94 2.06-2.06.94zm-11 1L8.5 8.5l.94-2.06 2.06-.94-2.06-.94L8.5 2.5l-.94 2.06-2.06.94zm10 10l.94 2.06.94-2.06 2.06-.94-2.06-.94-.94-2.06-.94 2.06-2.06.94z\"/><path d=\"M17.41 7.96l-1.37-1.37c-.4-.4-.92-.59-1.43-.59-.52 0-1.04.2-1.43.59L10.3 9.45l-7.72 7.72c-.78.78-.78 2.05 0 2.83L4 21.41c.39.39.9.59 1.41.59.51 0 1.02-.2 1.41-.59l7.78-7.78 2.81-2.81c.8-.78.8-2.07 0-2.86zM5.41 20L4 18.59l7.72-7.72 1.47 1.35L5.41 20z\"/>\n",
              "  </svg>\n",
              "      </button>\n",
              "      \n",
              "  <style>\n",
              "    .colab-df-container {\n",
              "      display:flex;\n",
              "      flex-wrap:wrap;\n",
              "      gap: 12px;\n",
              "    }\n",
              "\n",
              "    .colab-df-convert {\n",
              "      background-color: #E8F0FE;\n",
              "      border: none;\n",
              "      border-radius: 50%;\n",
              "      cursor: pointer;\n",
              "      display: none;\n",
              "      fill: #1967D2;\n",
              "      height: 32px;\n",
              "      padding: 0 0 0 0;\n",
              "      width: 32px;\n",
              "    }\n",
              "\n",
              "    .colab-df-convert:hover {\n",
              "      background-color: #E2EBFA;\n",
              "      box-shadow: 0px 1px 2px rgba(60, 64, 67, 0.3), 0px 1px 3px 1px rgba(60, 64, 67, 0.15);\n",
              "      fill: #174EA6;\n",
              "    }\n",
              "\n",
              "    [theme=dark] .colab-df-convert {\n",
              "      background-color: #3B4455;\n",
              "      fill: #D2E3FC;\n",
              "    }\n",
              "\n",
              "    [theme=dark] .colab-df-convert:hover {\n",
              "      background-color: #434B5C;\n",
              "      box-shadow: 0px 1px 3px 1px rgba(0, 0, 0, 0.15);\n",
              "      filter: drop-shadow(0px 1px 2px rgba(0, 0, 0, 0.3));\n",
              "      fill: #FFFFFF;\n",
              "    }\n",
              "  </style>\n",
              "\n",
              "      <script>\n",
              "        const buttonEl =\n",
              "          document.querySelector('#df-30de7d93-ee6a-4e13-8db7-61dbfe2e693d button.colab-df-convert');\n",
              "        buttonEl.style.display =\n",
              "          google.colab.kernel.accessAllowed ? 'block' : 'none';\n",
              "\n",
              "        async function convertToInteractive(key) {\n",
              "          const element = document.querySelector('#df-30de7d93-ee6a-4e13-8db7-61dbfe2e693d');\n",
              "          const dataTable =\n",
              "            await google.colab.kernel.invokeFunction('convertToInteractive',\n",
              "                                                     [key], {});\n",
              "          if (!dataTable) return;\n",
              "\n",
              "          const docLinkHtml = 'Like what you see? Visit the ' +\n",
              "            '<a target=\"_blank\" href=https://colab.research.google.com/notebooks/data_table.ipynb>data table notebook</a>'\n",
              "            + ' to learn more about interactive tables.';\n",
              "          element.innerHTML = '';\n",
              "          dataTable['output_type'] = 'display_data';\n",
              "          await google.colab.output.renderOutput(dataTable, element);\n",
              "          const docLink = document.createElement('div');\n",
              "          docLink.innerHTML = docLinkHtml;\n",
              "          element.appendChild(docLink);\n",
              "        }\n",
              "      </script>\n",
              "    </div>\n",
              "  </div>\n",
              "  "
            ]
          },
          "metadata": {},
          "execution_count": 5
        }
      ]
    },
    {
      "cell_type": "code",
      "source": [
        "data.fillna(value=data.mode().iloc[0], inplace=True)"
      ],
      "metadata": {
        "id": "9IkA0SgLN6h5"
      },
      "execution_count": null,
      "outputs": []
    },
    {
      "cell_type": "code",
      "source": [
        "data.isnull().sum()"
      ],
      "metadata": {
        "colab": {
          "base_uri": "https://localhost:8080/"
        },
        "id": "RbGUFO0cOV3T",
        "outputId": "0a3b48b0-a948-4638-deb8-b2eb5d3f0249"
      },
      "execution_count": null,
      "outputs": [
        {
          "output_type": "execute_result",
          "data": {
            "text/plain": [
              "Unnamed: 0          0\n",
              "attachment_count    0\n",
              "url1                0\n",
              "url2                0\n",
              "url3                0\n",
              "                   ..\n",
              "header29            0\n",
              "header30            0\n",
              "header31            0\n",
              "header32            0\n",
              "target              0\n",
              "Length: 203, dtype: int64"
            ]
          },
          "metadata": {},
          "execution_count": 61
        }
      ]
    },
    {
      "cell_type": "code",
      "source": [
        "import keras\n",
        "\n",
        "from keras.layers import Input, Dense\n",
        "from keras.models import Model,load_model\n",
        "from keras.layers import Input, Dense\n",
        "from keras.models import Model\n",
        "from keras import regularizers\n",
        "\n",
        "from keras.preprocessing.text import Tokenizer\n",
        "from keras.models import Sequential\n",
        "from keras.layers import Dense, Dropout, Activation\n",
        "from keras.callbacks import ModelCheckpoint, TensorBoard"
      ],
      "metadata": {
        "id": "jfgrUPIzNvOd"
      },
      "execution_count": null,
      "outputs": []
    },
    {
      "cell_type": "code",
      "source": [
        "#\n",
        "from sklearn import metrics\n",
        "from sklearn import svm\n",
        "#from sklearn.externals import joblib\n",
        "from sklearn.preprocessing import LabelEncoder"
      ],
      "metadata": {
        "id": "mvAeF8o0NvL2"
      },
      "execution_count": null,
      "outputs": []
    },
    {
      "cell_type": "code",
      "source": [
        "# max number of features\n",
        "num_max = 202"
      ],
      "metadata": {
        "id": "1Mrfopj7NvIN"
      },
      "execution_count": null,
      "outputs": []
    },
    {
      "cell_type": "code",
      "source": [
        "import time\n",
        "\n",
        "def train_tf_idf_model(texts):\n",
        "    \"train tf idf model \"\n",
        "    tic = time.process_time()\n",
        "    \n",
        "    tok = Tokenizer(num_words=num_max)\n",
        "    tok.fit_on_texts(texts)\n",
        "    toc = time.process_time()\n",
        "\n",
        "    print (\" -----total Computation time = \" + str((toc - tic)) + \" seconds\")\n",
        "    return tok\n",
        "\n",
        "def prepare_model_input(tfidf_model,dataframe,mode='tfidf'):\n",
        "    \n",
        "    \"function to prepare data input features using tfidf model\"\n",
        "    tic = time.process_time()\n",
        "    le = LabelEncoder()\n",
        "    sample_texts = list(dataframe['tokenized_text'])\n",
        "    sample_texts = [' '.join(x.split()) for x in sample_texts]\n",
        "    \n",
        "    targets=list(dataframe['target'])\n",
        "    targets = [1. if x==1 else 0. for x in targets]\n",
        "    sample_target = le.fit_transform(targets)\n",
        "    \n",
        "    if mode=='tfidf':\n",
        "        sample_texts=tfidf_model.texts_to_matrix(sample_texts,mode='tfidf')\n",
        "    else:\n",
        "        sample_texts=tfidf_model.texts_to_matrix(sample_texts)\n",
        "    \n",
        "    toc = time.process_time()\n",
        "    \n",
        "    print('shape of target: ', sample_target.shape)\n",
        "    print('shape of data: ', sample_texts.shape)\n",
        "    \n",
        "    print (\" -----total Computation time for preparing model data = \" + str((toc - tic)) + \" seconds\")\n",
        "    \n",
        "    return sample_texts,sample_target"
      ],
      "metadata": {
        "id": "2Qg0xakuNu6q"
      },
      "execution_count": null,
      "outputs": []
    },
    {
      "cell_type": "code",
      "source": [
        "#Define Input and Output\n",
        "\n",
        "y = data['target']\n",
        "X = data.loc[:, data.columns!='target']"
      ],
      "metadata": {
        "id": "YZXtyyRyiYfs"
      },
      "execution_count": null,
      "outputs": []
    },
    {
      "cell_type": "code",
      "source": [
        "#Splitting Training and Testing Data\n",
        "\n",
        "from sklearn.model_selection import train_test_split\n",
        "\n",
        "X_train, X_val, y_train, y_val = train_test_split(X, y, test_size=0.33)\n",
        "print ('train data shape: ', X_train.shape, y_train.shape)\n",
        "print ('validation data shape :' , X_val.shape, y_val.shape)"
      ],
      "metadata": {
        "colab": {
          "base_uri": "https://localhost:8080/"
        },
        "id": "RC9YIHRCiYdE",
        "outputId": "c25cf2da-cfd9-445a-8c31-cd9bd0123935"
      },
      "execution_count": null,
      "outputs": [
        {
          "output_type": "stream",
          "name": "stdout",
          "text": [
            "train data shape:  (6677, 202) (6677,)\n",
            "validation data shape : (3290, 202) (3290,)\n"
          ]
        }
      ]
    },
    {
      "cell_type": "code",
      "source": [
        "from sklearn.preprocessing import StandardScaler\n",
        "sc = StandardScaler()\n",
        "X_train = sc.fit_transform(X_train)\n",
        "X_val = sc.transform(X_val)"
      ],
      "metadata": {
        "id": "mbAmxb1VvTLI"
      },
      "execution_count": null,
      "outputs": []
    },
    {
      "cell_type": "code",
      "source": [
        "import tensorflow as tf\n",
        "import pandas as pd\n",
        "import numpy as np\n",
        "from tensorflow.python import platform\n",
        "from matplotlib import pyplot as plt"
      ],
      "metadata": {
        "id": "LkBeIVZmiYYa"
      },
      "execution_count": null,
      "outputs": []
    },
    {
      "cell_type": "code",
      "source": [
        "# Use scikit-learn to grid search the batch size and epochs\n",
        "import numpy\n",
        "from sklearn.model_selection import GridSearchCV\n",
        "from keras.models import Sequential\n",
        "from keras.layers import Dense\n",
        "from keras.wrappers.scikit_learn import KerasClassifier\n",
        "# Function to create model, required for KerasClassifier\n",
        "def create_model():\n",
        "\t# create model\n",
        "  model = tf.keras.Sequential()\n",
        "  model.add(tf.keras.Input(shape=(202,))) #input layer\n",
        "  model.add(tf.keras.layers.Dense(500, activation='swish'))\n",
        "  model.add(tf.keras.layers.Dense(50, activation = 'swish'))# dense layer\n",
        "  model.add(tf.keras.layers.Dense(1, activation = 'sigmoid'))# output layer\n",
        "\t# Compile model\n",
        "  model.compile(loss='binary_crossentropy', optimizer='adam', metrics=['accuracy'])\n",
        "  return model\n",
        "# fix random seed for reproducibility\n",
        "seed = 7\n",
        "numpy.random.seed(seed)\n",
        "# load dataset\n",
        "\n",
        "# split into input (X) and output (Y) variables\n",
        "X = X_train\n",
        "Y = y_train\n",
        "# create model\n",
        "model = KerasClassifier(build_fn=create_model, verbose=0)\n",
        "# define the grid search parameters\n",
        "batch_size = [10, 20, 40, 60, 80, 100]\n",
        "epochs = [10, 50, 100]\n",
        "param_grid = dict(batch_size=batch_size, epochs=epochs)\n",
        "grid = GridSearchCV(estimator=model, param_grid=param_grid, n_jobs=-1, cv=3)\n",
        "grid_result = grid.fit(X, Y)\n",
        "# summarize results\n",
        "print(\"Best: %f using %s\" % (grid_result.best_score_, grid_result.best_params_))\n",
        "means = grid_result.cv_results_['mean_test_score']\n",
        "stds = grid_result.cv_results_['std_test_score']\n",
        "params = grid_result.cv_results_['params']\n",
        "for mean, stdev, param in zip(means, stds, params):\n",
        "    print(\"%f (%f) with: %r\" % (mean, stdev, param))"
      ],
      "metadata": {
        "colab": {
          "base_uri": "https://localhost:8080/"
        },
        "id": "qDjcgzoAQznV",
        "outputId": "13d05d9e-7c62-4aa2-e5db-04a4b6a45bf9"
      },
      "execution_count": null,
      "outputs": [
        {
          "output_type": "stream",
          "name": "stdout",
          "text": [
            "Best: 0.984424 using {'batch_size': 10, 'epochs': 10}\n",
            "0.984424 (0.002152) with: {'batch_size': 10, 'epochs': 10}\n",
            "0.982626 (0.004043) with: {'batch_size': 10, 'epochs': 50}\n",
            "0.983676 (0.003119) with: {'batch_size': 10, 'epochs': 100}\n",
            "0.980830 (0.002494) with: {'batch_size': 20, 'epochs': 10}\n",
            "0.983076 (0.001482) with: {'batch_size': 20, 'epochs': 50}\n",
            "0.979931 (0.004615) with: {'batch_size': 20, 'epochs': 100}\n",
            "0.980829 (0.003078) with: {'batch_size': 40, 'epochs': 10}\n",
            "0.980680 (0.000973) with: {'batch_size': 40, 'epochs': 50}\n",
            "0.980530 (0.004589) with: {'batch_size': 40, 'epochs': 100}\n",
            "0.980080 (0.004847) with: {'batch_size': 60, 'epochs': 10}\n",
            "0.980231 (0.003002) with: {'batch_size': 60, 'epochs': 50}\n",
            "0.983226 (0.003674) with: {'batch_size': 60, 'epochs': 100}\n",
            "0.979182 (0.002332) with: {'batch_size': 80, 'epochs': 10}\n",
            "0.981878 (0.001061) with: {'batch_size': 80, 'epochs': 50}\n",
            "0.980680 (0.003003) with: {'batch_size': 80, 'epochs': 100}\n",
            "0.977384 (0.004062) with: {'batch_size': 100, 'epochs': 10}\n",
            "0.980381 (0.003286) with: {'batch_size': 100, 'epochs': 50}\n",
            "0.982178 (0.003853) with: {'batch_size': 100, 'epochs': 100}\n"
          ]
        }
      ]
    },
    {
      "cell_type": "code",
      "source": [
        "nn_predict = grid_result.predict(X_val)\n",
        "NN_classufication = classification_report(y_val, nn_predict)\n",
        "print(NN_classufication)"
      ],
      "metadata": {
        "colab": {
          "base_uri": "https://localhost:8080/"
        },
        "id": "QxScGkOCuPyI",
        "outputId": "85b41349-7855-48c0-b2b6-230f0a2dba2b"
      },
      "execution_count": null,
      "outputs": [
        {
          "output_type": "stream",
          "name": "stdout",
          "text": [
            "              precision    recall  f1-score   support\n",
            "\n",
            "           0       0.98      0.99      0.99      2303\n",
            "           1       0.98      0.95      0.96       987\n",
            "\n",
            "    accuracy                           0.98      3290\n",
            "   macro avg       0.98      0.97      0.98      3290\n",
            "weighted avg       0.98      0.98      0.98      3290\n",
            "\n"
          ]
        }
      ]
    },
    {
      "cell_type": "code",
      "source": [
        "# Model Metrics\n",
        "from sklearn.model_selection import cross_validate\n",
        "from sklearn.model_selection import cross_val_predict\n",
        "from sklearn.metrics import classification_report\n",
        "\n",
        "def displayModel_metrics(best_model, grid_model, features, target, cv):\n",
        "    metrics = cross_validate(best_model, features, y=target, cv=cv, \n",
        "                             scoring=['accuracy','precision','recall'], return_train_score=True) \n",
        "    \n",
        "    y_predict = cross_val_predict(best_model, features, target, cv=cv)\n",
        "\n",
        "    print('\\nBest Accuracy with Grid Search            : {:.3f}'.format(grid_model.best_score_))\n",
        "    print('\\nTraining data Metrics')\n",
        "    print('\\n     The average accuraccy : {:.3f}'.format(metrics['train_accuracy'].mean()))\n",
        "    print('     The average precision : {:.3f}'.format(metrics['train_precision'].mean()))\n",
        "    print('     The average recall    : {:.3f}'.format(metrics['train_recall'].mean()))\n",
        "\n",
        "    print('\\nTest data Metrics')\n",
        "    print('\\n     The average accuracy  : {:.3f}'.format(metrics['test_accuracy'].mean()))\n",
        "    print('     The average precision : {:.3f}'.format(metrics['test_precision'].mean()))\n",
        "    print('     The average  recall   : {:.3f}'.format(metrics['test_recall'].mean()))\n",
        "    \n",
        "    matrix = classification_report(target, y_predict, labels=[1,0])\n",
        "    print('\\nClassification report\\n')\n",
        "    print(matrix)"
      ],
      "metadata": {
        "id": "YJZjZ2uHTmFj"
      },
      "execution_count": null,
      "outputs": []
    },
    {
      "cell_type": "code",
      "source": [
        "from sklearn.ensemble import RandomForestClassifier\n",
        "from sklearn.model_selection import StratifiedShuffleSplit\n",
        "import warnings\n",
        "warnings.filterwarnings(\"ignore\")\n",
        "\n",
        "# Number of trees in random forest\n",
        "n_estimators = [30, 70, 100, 150]\n",
        "\n",
        "# Number of features to consider at every split\n",
        "max_features = ['auto', 'sqrt', 'log2']\n",
        "\n",
        "# Defining the criterion\n",
        "criterion = ['gini', 'entropy']\n",
        "\n",
        "param_rf = { \n",
        "    'n_estimators': n_estimators,\n",
        "    'max_features': max_features,\n",
        "    'criterion': criterion \n",
        "}\n",
        "\n",
        "cv_shuffle = StratifiedShuffleSplit(n_splits=5)\n",
        "\n",
        "rf = RandomForestClassifier()\n",
        "\n",
        "rf_clf = GridSearchCV(rf, param_grid = param_rf, cv = cv_shuffle, verbose= 2)\n",
        "\n",
        "rf_clf.fit(X_train, y_train)\n",
        "\n",
        "rf_predicted = rf_clf.predict(X_val)\n",
        "\n",
        "rf_report = classification_report(y_val, rf_predicted)\n",
        "\n",
        "print(rf_clf.best_params_)\n",
        "\n",
        "print(rf_clf.best_score_)\n",
        "\n",
        "%time"
      ],
      "metadata": {
        "id": "ZC4GxPzJn3TX",
        "colab": {
          "base_uri": "https://localhost:8080/"
        },
        "outputId": "e4b71707-29da-43a9-e10a-04aba8841970"
      },
      "execution_count": null,
      "outputs": [
        {
          "output_type": "stream",
          "name": "stdout",
          "text": [
            "Fitting 5 folds for each of 24 candidates, totalling 120 fits\n",
            "[CV] END .criterion=gini, max_features=auto, n_estimators=30; total time=   0.3s\n",
            "[CV] END .criterion=gini, max_features=auto, n_estimators=30; total time=   0.3s\n",
            "[CV] END .criterion=gini, max_features=auto, n_estimators=30; total time=   0.3s\n",
            "[CV] END .criterion=gini, max_features=auto, n_estimators=30; total time=   0.3s\n",
            "[CV] END .criterion=gini, max_features=auto, n_estimators=30; total time=   0.3s\n",
            "[CV] END .criterion=gini, max_features=auto, n_estimators=70; total time=   0.7s\n",
            "[CV] END .criterion=gini, max_features=auto, n_estimators=70; total time=   0.7s\n",
            "[CV] END .criterion=gini, max_features=auto, n_estimators=70; total time=   0.8s\n",
            "[CV] END .criterion=gini, max_features=auto, n_estimators=70; total time=   0.7s\n",
            "[CV] END .criterion=gini, max_features=auto, n_estimators=70; total time=   0.7s\n",
            "[CV] END criterion=gini, max_features=auto, n_estimators=100; total time=   1.0s\n",
            "[CV] END criterion=gini, max_features=auto, n_estimators=100; total time=   1.0s\n",
            "[CV] END criterion=gini, max_features=auto, n_estimators=100; total time=   1.0s\n",
            "[CV] END criterion=gini, max_features=auto, n_estimators=100; total time=   1.1s\n",
            "[CV] END criterion=gini, max_features=auto, n_estimators=100; total time=   1.0s\n",
            "[CV] END criterion=gini, max_features=auto, n_estimators=150; total time=   1.7s\n",
            "[CV] END criterion=gini, max_features=auto, n_estimators=150; total time=   1.6s\n",
            "[CV] END criterion=gini, max_features=auto, n_estimators=150; total time=   1.6s\n",
            "[CV] END criterion=gini, max_features=auto, n_estimators=150; total time=   1.5s\n",
            "[CV] END criterion=gini, max_features=auto, n_estimators=150; total time=   1.6s\n",
            "[CV] END .criterion=gini, max_features=sqrt, n_estimators=30; total time=   0.3s\n",
            "[CV] END .criterion=gini, max_features=sqrt, n_estimators=30; total time=   0.3s\n",
            "[CV] END .criterion=gini, max_features=sqrt, n_estimators=30; total time=   0.3s\n",
            "[CV] END .criterion=gini, max_features=sqrt, n_estimators=30; total time=   0.3s\n",
            "[CV] END .criterion=gini, max_features=sqrt, n_estimators=30; total time=   0.3s\n",
            "[CV] END .criterion=gini, max_features=sqrt, n_estimators=70; total time=   0.7s\n",
            "[CV] END .criterion=gini, max_features=sqrt, n_estimators=70; total time=   0.8s\n",
            "[CV] END .criterion=gini, max_features=sqrt, n_estimators=70; total time=   0.8s\n",
            "[CV] END .criterion=gini, max_features=sqrt, n_estimators=70; total time=   0.7s\n",
            "[CV] END .criterion=gini, max_features=sqrt, n_estimators=70; total time=   0.8s\n",
            "[CV] END criterion=gini, max_features=sqrt, n_estimators=100; total time=   1.0s\n",
            "[CV] END criterion=gini, max_features=sqrt, n_estimators=100; total time=   1.1s\n",
            "[CV] END criterion=gini, max_features=sqrt, n_estimators=100; total time=   1.0s\n",
            "[CV] END criterion=gini, max_features=sqrt, n_estimators=100; total time=   1.1s\n",
            "[CV] END criterion=gini, max_features=sqrt, n_estimators=100; total time=   1.0s\n",
            "[CV] END criterion=gini, max_features=sqrt, n_estimators=150; total time=   1.5s\n",
            "[CV] END criterion=gini, max_features=sqrt, n_estimators=150; total time=   1.5s\n",
            "[CV] END criterion=gini, max_features=sqrt, n_estimators=150; total time=   1.5s\n",
            "[CV] END criterion=gini, max_features=sqrt, n_estimators=150; total time=   1.6s\n",
            "[CV] END criterion=gini, max_features=sqrt, n_estimators=150; total time=   1.5s\n",
            "[CV] END .criterion=gini, max_features=log2, n_estimators=30; total time=   0.2s\n",
            "[CV] END .criterion=gini, max_features=log2, n_estimators=30; total time=   0.2s\n",
            "[CV] END .criterion=gini, max_features=log2, n_estimators=30; total time=   0.3s\n",
            "[CV] END .criterion=gini, max_features=log2, n_estimators=30; total time=   0.2s\n",
            "[CV] END .criterion=gini, max_features=log2, n_estimators=30; total time=   0.2s\n",
            "[CV] END .criterion=gini, max_features=log2, n_estimators=70; total time=   0.5s\n",
            "[CV] END .criterion=gini, max_features=log2, n_estimators=70; total time=   0.5s\n",
            "[CV] END .criterion=gini, max_features=log2, n_estimators=70; total time=   0.5s\n",
            "[CV] END .criterion=gini, max_features=log2, n_estimators=70; total time=   0.5s\n",
            "[CV] END .criterion=gini, max_features=log2, n_estimators=70; total time=   0.5s\n",
            "[CV] END criterion=gini, max_features=log2, n_estimators=100; total time=   0.7s\n",
            "[CV] END criterion=gini, max_features=log2, n_estimators=100; total time=   0.7s\n",
            "[CV] END criterion=gini, max_features=log2, n_estimators=100; total time=   0.7s\n",
            "[CV] END criterion=gini, max_features=log2, n_estimators=100; total time=   0.7s\n",
            "[CV] END criterion=gini, max_features=log2, n_estimators=100; total time=   0.7s\n",
            "[CV] END criterion=gini, max_features=log2, n_estimators=150; total time=   1.0s\n",
            "[CV] END criterion=gini, max_features=log2, n_estimators=150; total time=   1.0s\n",
            "[CV] END criterion=gini, max_features=log2, n_estimators=150; total time=   1.0s\n",
            "[CV] END criterion=gini, max_features=log2, n_estimators=150; total time=   1.0s\n",
            "[CV] END criterion=gini, max_features=log2, n_estimators=150; total time=   1.0s\n",
            "[CV] END criterion=entropy, max_features=auto, n_estimators=30; total time=   0.4s\n",
            "[CV] END criterion=entropy, max_features=auto, n_estimators=30; total time=   0.3s\n",
            "[CV] END criterion=entropy, max_features=auto, n_estimators=30; total time=   0.4s\n",
            "[CV] END criterion=entropy, max_features=auto, n_estimators=30; total time=   0.3s\n",
            "[CV] END criterion=entropy, max_features=auto, n_estimators=30; total time=   0.4s\n",
            "[CV] END criterion=entropy, max_features=auto, n_estimators=70; total time=   0.8s\n",
            "[CV] END criterion=entropy, max_features=auto, n_estimators=70; total time=   0.9s\n",
            "[CV] END criterion=entropy, max_features=auto, n_estimators=70; total time=   0.9s\n",
            "[CV] END criterion=entropy, max_features=auto, n_estimators=70; total time=   0.8s\n",
            "[CV] END criterion=entropy, max_features=auto, n_estimators=70; total time=   0.8s\n",
            "[CV] END criterion=entropy, max_features=auto, n_estimators=100; total time=   1.1s\n",
            "[CV] END criterion=entropy, max_features=auto, n_estimators=100; total time=   1.1s\n",
            "[CV] END criterion=entropy, max_features=auto, n_estimators=100; total time=   1.2s\n",
            "[CV] END criterion=entropy, max_features=auto, n_estimators=100; total time=   1.2s\n",
            "[CV] END criterion=entropy, max_features=auto, n_estimators=100; total time=   1.2s\n",
            "[CV] END criterion=entropy, max_features=auto, n_estimators=150; total time=   1.7s\n",
            "[CV] END criterion=entropy, max_features=auto, n_estimators=150; total time=   1.7s\n",
            "[CV] END criterion=entropy, max_features=auto, n_estimators=150; total time=   1.7s\n",
            "[CV] END criterion=entropy, max_features=auto, n_estimators=150; total time=   1.7s\n",
            "[CV] END criterion=entropy, max_features=auto, n_estimators=150; total time=   1.8s\n",
            "[CV] END criterion=entropy, max_features=sqrt, n_estimators=30; total time=   0.4s\n",
            "[CV] END criterion=entropy, max_features=sqrt, n_estimators=30; total time=   0.4s\n",
            "[CV] END criterion=entropy, max_features=sqrt, n_estimators=30; total time=   0.3s\n",
            "[CV] END criterion=entropy, max_features=sqrt, n_estimators=30; total time=   0.4s\n",
            "[CV] END criterion=entropy, max_features=sqrt, n_estimators=30; total time=   0.3s\n",
            "[CV] END criterion=entropy, max_features=sqrt, n_estimators=70; total time=   0.8s\n",
            "[CV] END criterion=entropy, max_features=sqrt, n_estimators=70; total time=   0.8s\n",
            "[CV] END criterion=entropy, max_features=sqrt, n_estimators=70; total time=   0.8s\n",
            "[CV] END criterion=entropy, max_features=sqrt, n_estimators=70; total time=   0.9s\n",
            "[CV] END criterion=entropy, max_features=sqrt, n_estimators=70; total time=   0.8s\n",
            "[CV] END criterion=entropy, max_features=sqrt, n_estimators=100; total time=   1.2s\n",
            "[CV] END criterion=entropy, max_features=sqrt, n_estimators=100; total time=   1.2s\n",
            "[CV] END criterion=entropy, max_features=sqrt, n_estimators=100; total time=   1.1s\n",
            "[CV] END criterion=entropy, max_features=sqrt, n_estimators=100; total time=   1.2s\n",
            "[CV] END criterion=entropy, max_features=sqrt, n_estimators=100; total time=   1.1s\n",
            "[CV] END criterion=entropy, max_features=sqrt, n_estimators=150; total time=   1.7s\n",
            "[CV] END criterion=entropy, max_features=sqrt, n_estimators=150; total time=   1.7s\n",
            "[CV] END criterion=entropy, max_features=sqrt, n_estimators=150; total time=   1.7s\n",
            "[CV] END criterion=entropy, max_features=sqrt, n_estimators=150; total time=   1.8s\n",
            "[CV] END criterion=entropy, max_features=sqrt, n_estimators=150; total time=   1.7s\n",
            "[CV] END criterion=entropy, max_features=log2, n_estimators=30; total time=   0.3s\n",
            "[CV] END criterion=entropy, max_features=log2, n_estimators=30; total time=   0.2s\n",
            "[CV] END criterion=entropy, max_features=log2, n_estimators=30; total time=   0.3s\n",
            "[CV] END criterion=entropy, max_features=log2, n_estimators=30; total time=   0.2s\n",
            "[CV] END criterion=entropy, max_features=log2, n_estimators=30; total time=   0.2s\n",
            "[CV] END criterion=entropy, max_features=log2, n_estimators=70; total time=   0.6s\n",
            "[CV] END criterion=entropy, max_features=log2, n_estimators=70; total time=   0.6s\n",
            "[CV] END criterion=entropy, max_features=log2, n_estimators=70; total time=   0.6s\n",
            "[CV] END criterion=entropy, max_features=log2, n_estimators=70; total time=   0.6s\n",
            "[CV] END criterion=entropy, max_features=log2, n_estimators=70; total time=   0.6s\n",
            "[CV] END criterion=entropy, max_features=log2, n_estimators=100; total time=   0.8s\n",
            "[CV] END criterion=entropy, max_features=log2, n_estimators=100; total time=   0.8s\n",
            "[CV] END criterion=entropy, max_features=log2, n_estimators=100; total time=   0.8s\n",
            "[CV] END criterion=entropy, max_features=log2, n_estimators=100; total time=   0.8s\n",
            "[CV] END criterion=entropy, max_features=log2, n_estimators=100; total time=   0.8s\n",
            "[CV] END criterion=entropy, max_features=log2, n_estimators=150; total time=   1.2s\n",
            "[CV] END criterion=entropy, max_features=log2, n_estimators=150; total time=   1.2s\n",
            "[CV] END criterion=entropy, max_features=log2, n_estimators=150; total time=   1.2s\n",
            "[CV] END criterion=entropy, max_features=log2, n_estimators=150; total time=   1.2s\n",
            "[CV] END criterion=entropy, max_features=log2, n_estimators=150; total time=   1.2s\n",
            "{'criterion': 'gini', 'max_features': 'sqrt', 'n_estimators': 30}\n",
            "0.9970059880239521\n",
            "CPU times: user 3 µs, sys: 0 ns, total: 3 µs\n",
            "Wall time: 6.68 µs\n"
          ]
        }
      ]
    },
    {
      "cell_type": "markdown",
      "source": [
        "https://github.com/jalpa015/email-spam-detection-using-keras/blob/master/Email%20Classification%20V2.ipynb"
      ],
      "metadata": {
        "id": "sjCmyBf6bJsA"
      }
    },
    {
      "cell_type": "markdown",
      "source": [
        "### THE END !!! STOP!!"
      ],
      "metadata": {
        "id": "Wql5pshabBHm"
      }
    }
  ]
}